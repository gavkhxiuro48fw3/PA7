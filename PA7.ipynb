{
 "cells": [
  {
   "cell_type": "markdown",
   "id": "74bc8b13",
   "metadata": {},
   "source": [
    "## Gavin Trumbull\n",
    "# assignment 7, eric matthes, 2nd edition, spring 2023\n",
    "# CS150"
   ]
  },
  {
   "cell_type": "code",
   "execution_count": 16,
   "id": "dbe7a5fc",
   "metadata": {},
   "outputs": [],
   "source": [
    "import math\n",
    "class calculator():\n",
    "    def __init__(self,a,b):\n",
    "        self.a=a\n",
    "        self.b=b\n",
    "    def additionmath(self):\n",
    "        print(self.a+self.b)\n",
    "    def subtractionmath(self):\n",
    "        print(self.a-self.b)\n",
    "    def multiplicationmath(self):\n",
    "        print(self.a*self.b)    \n",
    "    def divisionmath(self):\n",
    "        print(self.a/self.b)\n",
    "    def powermath(self):\n",
    "        print(self.a**self.b)\n",
    "    def squarerootmath(self):\n",
    "        print(self.a**0.5)\n",
    "    def exponentialmath(self):\n",
    "        print(math.exp(self.a))\n",
    "    def inversemath(self):\n",
    "        print(1/self.a)\n",
    "    def sinemath(self):\n",
    "        print(math.sin(self.a))\n",
    "    def cosinemath(self):\n",
    "        print(math.cos(self.a))\n",
    "    def tangentmath(self):\n",
    "        print(math.tan(self.a))\n",
    "    def logmath(self):\n",
    "        print(math.log(self.a))\n",
    "    def factorialmath(self):\n",
    "        print(math.factorial(self.a))\n",
    "    def degreeconversionmath(self):\n",
    "        print(math.degrees(self.a))\n",
    "    def radianconversionmath(self):\n",
    "        print(math.radians(self.a))"
   ]
  },
  {
   "cell_type": "code",
   "execution_count": 18,
   "id": "740b5e12",
   "metadata": {},
   "outputs": [
    {
     "name": "stdout",
     "output_type": "stream",
     "text": [
      "0.06981317007977318\n"
     ]
    }
   ],
   "source": [
    "numbers=calculator(4,1)\n",
    "numbers.radianconversionmath()"
   ]
  },
  {
   "cell_type": "code",
   "execution_count": null,
   "id": "49e81c0e",
   "metadata": {},
   "outputs": [],
   "source": []
  }
 ],
 "metadata": {
  "kernelspec": {
   "display_name": "Python 3 (ipykernel)",
   "language": "python",
   "name": "python3"
  },
  "language_info": {
   "codemirror_mode": {
    "name": "ipython",
    "version": 3
   },
   "file_extension": ".py",
   "mimetype": "text/x-python",
   "name": "python",
   "nbconvert_exporter": "python",
   "pygments_lexer": "ipython3",
   "version": "3.9.13"
  }
 },
 "nbformat": 4,
 "nbformat_minor": 5
}
